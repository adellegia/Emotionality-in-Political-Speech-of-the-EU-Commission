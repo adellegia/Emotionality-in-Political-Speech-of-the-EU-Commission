{
 "cells": [
  {
   "cell_type": "code",
   "execution_count": 22,
   "metadata": {},
   "outputs": [],
   "source": [
    "from gensim.test.utils import common_texts\n",
    "from gensim.models import Word2Vec\n",
    "import pandas as pd\n",
    "import gensim.downloader as api\n",
    "from nltk.tokenize import sent_tokenize, word_tokenize\n",
    "from sklearn.feature_extraction.text import TfidfVectorizer \n",
    "import gensim\n",
    "import numpy as np\n"
   ]
  },
  {
   "cell_type": "markdown",
   "metadata": {},
   "source": [
    "#### Load Data"
   ]
  },
  {
   "cell_type": "code",
   "execution_count": 367,
   "metadata": {},
   "outputs": [
    {
     "data": {
      "text/html": [
       "<div>\n",
       "<style scoped>\n",
       "    .dataframe tbody tr th:only-of-type {\n",
       "        vertical-align: middle;\n",
       "    }\n",
       "\n",
       "    .dataframe tbody tr th {\n",
       "        vertical-align: top;\n",
       "    }\n",
       "\n",
       "    .dataframe thead th {\n",
       "        text-align: right;\n",
       "    }\n",
       "</style>\n",
       "<table border=\"1\" class=\"dataframe\">\n",
       "  <thead>\n",
       "    <tr style=\"text-align: right;\">\n",
       "      <th></th>\n",
       "      <th>speech_id</th>\n",
       "      <th>speaker</th>\n",
       "      <th>speaker_id</th>\n",
       "      <th>date</th>\n",
       "      <th>year</th>\n",
       "      <th>title</th>\n",
       "      <th>meta_tags</th>\n",
       "      <th>link</th>\n",
       "      <th>speech</th>\n",
       "      <th>lang</th>\n",
       "    </tr>\n",
       "  </thead>\n",
       "  <tbody>\n",
       "    <tr>\n",
       "      <th>0</th>\n",
       "      <td>SPEECH/19/7325</td>\n",
       "      <td>Phil Hogan</td>\n",
       "      <td>184</td>\n",
       "      <td>14 October 2019</td>\n",
       "      <td>2019</td>\n",
       "      <td>Side Event of the Global Network Against Food ...</td>\n",
       "      <td>Speech|14 October 2019|Brussels</td>\n",
       "      <td>https://ec.europa.eu/commission/presscorner/de...</td>\n",
       "      <td>Dear David, Dear Dongyu, Distinguished Guests,...</td>\n",
       "      <td>en</td>\n",
       "    </tr>\n",
       "    <tr>\n",
       "      <th>1</th>\n",
       "      <td>SPEECH/19/7322</td>\n",
       "      <td>Phil Hogan</td>\n",
       "      <td>184</td>\n",
       "      <td>14 October 2019</td>\n",
       "      <td>2019</td>\n",
       "      <td>Intervention for the Plenary on SOFI Launch (R...</td>\n",
       "      <td>Speech|14 October 2019|Brussels</td>\n",
       "      <td>https://ec.europa.eu/commission/presscorner/de...</td>\n",
       "      <td>Distinguished Guests, Ladies and Gentlemen, Fr...</td>\n",
       "      <td>en</td>\n",
       "    </tr>\n",
       "    <tr>\n",
       "      <th>2</th>\n",
       "      <td>SPEECH/19/7324</td>\n",
       "      <td>Phil Hogan</td>\n",
       "      <td>184</td>\n",
       "      <td>14 October 2019</td>\n",
       "      <td>2019</td>\n",
       "      <td>Signature 9 million euros contract (Rome, 14/1...</td>\n",
       "      <td>Speech|14 October 2019|Brussels</td>\n",
       "      <td>https://ec.europa.eu/commission/presscorner/de...</td>\n",
       "      <td>Ladies and Gentlemen, Dear colleagues, Dear Qu...</td>\n",
       "      <td>en</td>\n",
       "    </tr>\n",
       "    <tr>\n",
       "      <th>3</th>\n",
       "      <td>SPEECH/19/7277</td>\n",
       "      <td>Phil Hogan</td>\n",
       "      <td>184</td>\n",
       "      <td>30 September 2019</td>\n",
       "      <td>2019</td>\n",
       "      <td>Trade For Her – Empowering women through inter...</td>\n",
       "      <td>Speech|30 September 2019|Brussels</td>\n",
       "      <td>https://ec.europa.eu/commission/presscorner/de...</td>\n",
       "      <td>Ladies and Gentlemen, Dear Cecilia, First, let...</td>\n",
       "      <td>en</td>\n",
       "    </tr>\n",
       "    <tr>\n",
       "      <th>4</th>\n",
       "      <td>SPEECH/19/7309</td>\n",
       "      <td>Phil Hogan</td>\n",
       "      <td>184</td>\n",
       "      <td>26 September 2019</td>\n",
       "      <td>2019</td>\n",
       "      <td>Integrated National Financing Frameworks – a t...</td>\n",
       "      <td>Speech|26 September 2019|Brussels</td>\n",
       "      <td>https://ec.europa.eu/commission/presscorner/de...</td>\n",
       "      <td>Your Excellencies, Distinguished Guests, Ladie...</td>\n",
       "      <td>en</td>\n",
       "    </tr>\n",
       "    <tr>\n",
       "      <th>...</th>\n",
       "      <td>...</td>\n",
       "      <td>...</td>\n",
       "      <td>...</td>\n",
       "      <td>...</td>\n",
       "      <td>...</td>\n",
       "      <td>...</td>\n",
       "      <td>...</td>\n",
       "      <td>...</td>\n",
       "      <td>...</td>\n",
       "      <td>...</td>\n",
       "    </tr>\n",
       "    <tr>\n",
       "      <th>2140</th>\n",
       "      <td>SPEECH/15/4380</td>\n",
       "      <td>Frans Timmermans</td>\n",
       "      <td>162</td>\n",
       "      <td>11 February 2015</td>\n",
       "      <td>2015</td>\n",
       "      <td>Préparation du Conseil européen informel du 12...</td>\n",
       "      <td>Speech|11 February 2015|Strasbourg</td>\n",
       "      <td>https://ec.europa.eu/commission/presscorner/de...</td>\n",
       "      <td>Discours de Frans Timmermans, Premier Vice-Pré...</td>\n",
       "      <td>fr</td>\n",
       "    </tr>\n",
       "    <tr>\n",
       "      <th>2141</th>\n",
       "      <td>SPEECH/14/1701</td>\n",
       "      <td>Frans Timmermans</td>\n",
       "      <td>162</td>\n",
       "      <td>13 November 2014</td>\n",
       "      <td>2014</td>\n",
       "      <td>A New Chapter for Cross-border Criminal Justic...</td>\n",
       "      <td>Speech|13 November 2014</td>\n",
       "      <td>https://ec.europa.eu/commission/presscorner/de...</td>\n",
       "      <td>Conference on the competence of the European C...</td>\n",
       "      <td>en</td>\n",
       "    </tr>\n",
       "    <tr>\n",
       "      <th>2144</th>\n",
       "      <td>SPEECH/22/6949</td>\n",
       "      <td>Adina Vălean</td>\n",
       "      <td>997</td>\n",
       "      <td>15 November 2022</td>\n",
       "      <td>2022</td>\n",
       "      <td>Press remarks by Commissioner Adina Vălean fol...</td>\n",
       "      <td>Speech|15 November 2022|Brussels</td>\n",
       "      <td>https://ec.europa.eu/commission/presscorner/de...</td>\n",
       "      <td>Today, we adopted a joint statement on the clo...</td>\n",
       "      <td>en</td>\n",
       "    </tr>\n",
       "    <tr>\n",
       "      <th>2148</th>\n",
       "      <td>SPEECH/22/6144</td>\n",
       "      <td>Olivér Várhelyi</td>\n",
       "      <td>998</td>\n",
       "      <td>12 October 2022</td>\n",
       "      <td>2022</td>\n",
       "      <td>Opening remarks by Commissioner Olivér Várhely...</td>\n",
       "      <td>Speech|12 October 2022|Brussels</td>\n",
       "      <td>https://ec.europa.eu/commission/presscorner/de...</td>\n",
       "      <td>Good afternoon, ladies and gentlemen. Welcome ...</td>\n",
       "      <td>en</td>\n",
       "    </tr>\n",
       "    <tr>\n",
       "      <th>2149</th>\n",
       "      <td>SPEECH/21/1848</td>\n",
       "      <td>Olivér Várhelyi</td>\n",
       "      <td>998</td>\n",
       "      <td>20 April 2021</td>\n",
       "      <td>2021</td>\n",
       "      <td>Remarks by Commissioner Olivér Várhelyi on the...</td>\n",
       "      <td>Speech|20 April 2021|Brussels</td>\n",
       "      <td>https://ec.europa.eu/commission/presscorner/de...</td>\n",
       "      <td>Check against delivery! Thank you very much, t...</td>\n",
       "      <td>en</td>\n",
       "    </tr>\n",
       "  </tbody>\n",
       "</table>\n",
       "<p>1908 rows × 10 columns</p>\n",
       "</div>"
      ],
      "text/plain": [
       "           speech_id           speaker  speaker_id               date  year  \\\n",
       "0     SPEECH/19/7325        Phil Hogan         184    14 October 2019  2019   \n",
       "1     SPEECH/19/7322        Phil Hogan         184    14 October 2019  2019   \n",
       "2     SPEECH/19/7324        Phil Hogan         184    14 October 2019  2019   \n",
       "3     SPEECH/19/7277        Phil Hogan         184  30 September 2019  2019   \n",
       "4     SPEECH/19/7309        Phil Hogan         184  26 September 2019  2019   \n",
       "...              ...               ...         ...                ...   ...   \n",
       "2140  SPEECH/15/4380  Frans Timmermans         162   11 February 2015  2015   \n",
       "2141  SPEECH/14/1701  Frans Timmermans         162   13 November 2014  2014   \n",
       "2144  SPEECH/22/6949      Adina Vălean         997   15 November 2022  2022   \n",
       "2148  SPEECH/22/6144   Olivér Várhelyi         998    12 October 2022  2022   \n",
       "2149  SPEECH/21/1848   Olivér Várhelyi         998      20 April 2021  2021   \n",
       "\n",
       "                                                  title  \\\n",
       "0     Side Event of the Global Network Against Food ...   \n",
       "1     Intervention for the Plenary on SOFI Launch (R...   \n",
       "2     Signature 9 million euros contract (Rome, 14/1...   \n",
       "3     Trade For Her – Empowering women through inter...   \n",
       "4     Integrated National Financing Frameworks – a t...   \n",
       "...                                                 ...   \n",
       "2140  Préparation du Conseil européen informel du 12...   \n",
       "2141  A New Chapter for Cross-border Criminal Justic...   \n",
       "2144  Press remarks by Commissioner Adina Vălean fol...   \n",
       "2148  Opening remarks by Commissioner Olivér Várhely...   \n",
       "2149  Remarks by Commissioner Olivér Várhelyi on the...   \n",
       "\n",
       "                               meta_tags  \\\n",
       "0        Speech|14 October 2019|Brussels   \n",
       "1        Speech|14 October 2019|Brussels   \n",
       "2        Speech|14 October 2019|Brussels   \n",
       "3      Speech|30 September 2019|Brussels   \n",
       "4      Speech|26 September 2019|Brussels   \n",
       "...                                  ...   \n",
       "2140  Speech|11 February 2015|Strasbourg   \n",
       "2141             Speech|13 November 2014   \n",
       "2144    Speech|15 November 2022|Brussels   \n",
       "2148     Speech|12 October 2022|Brussels   \n",
       "2149       Speech|20 April 2021|Brussels   \n",
       "\n",
       "                                                   link  \\\n",
       "0     https://ec.europa.eu/commission/presscorner/de...   \n",
       "1     https://ec.europa.eu/commission/presscorner/de...   \n",
       "2     https://ec.europa.eu/commission/presscorner/de...   \n",
       "3     https://ec.europa.eu/commission/presscorner/de...   \n",
       "4     https://ec.europa.eu/commission/presscorner/de...   \n",
       "...                                                 ...   \n",
       "2140  https://ec.europa.eu/commission/presscorner/de...   \n",
       "2141  https://ec.europa.eu/commission/presscorner/de...   \n",
       "2144  https://ec.europa.eu/commission/presscorner/de...   \n",
       "2148  https://ec.europa.eu/commission/presscorner/de...   \n",
       "2149  https://ec.europa.eu/commission/presscorner/de...   \n",
       "\n",
       "                                                 speech lang  \n",
       "0     Dear David, Dear Dongyu, Distinguished Guests,...   en  \n",
       "1     Distinguished Guests, Ladies and Gentlemen, Fr...   en  \n",
       "2     Ladies and Gentlemen, Dear colleagues, Dear Qu...   en  \n",
       "3     Ladies and Gentlemen, Dear Cecilia, First, let...   en  \n",
       "4     Your Excellencies, Distinguished Guests, Ladie...   en  \n",
       "...                                                 ...  ...  \n",
       "2140  Discours de Frans Timmermans, Premier Vice-Pré...   fr  \n",
       "2141  Conference on the competence of the European C...   en  \n",
       "2144  Today, we adopted a joint statement on the clo...   en  \n",
       "2148  Good afternoon, ladies and gentlemen. Welcome ...   en  \n",
       "2149  Check against delivery! Thank you very much, t...   en  \n",
       "\n",
       "[1908 rows x 10 columns]"
      ]
     },
     "execution_count": 367,
     "metadata": {},
     "output_type": "execute_result"
    }
   ],
   "source": [
    "speeches = pd.read_csv(\"../../data/EUCommissionSpeeches/speeches_unique_eng.csv\", sep=\";\", index_col=[0])\n",
    "speeches"
   ]
  },
  {
   "cell_type": "markdown",
   "metadata": {},
   "source": [
    "#### Some Preprocessing"
   ]
  },
  {
   "cell_type": "code",
   "execution_count": 368,
   "metadata": {},
   "outputs": [],
   "source": [
    "from gensim.parsing.preprocessing import preprocess_string, strip_tags, strip_punctuation, strip_numeric, strip_multiple_whitespaces, strip_short, remove_stopwords\n",
    "from langdetect import detect\n",
    "\n",
    "CUSTOM_FILTERS = [lambda x: x.lower(), strip_tags, strip_punctuation, strip_multiple_whitespaces, strip_numeric, remove_stopwords, strip_short]\n",
    "\n",
    "speeches = speeches[speeches['lang'] == 'en']\n",
    "\n",
    "speeches['speech_cleaned'] = speeches.speech.apply(lambda x: \" \".join(preprocess_string(str(x), CUSTOM_FILTERS)))\n",
    "\n"
   ]
  },
  {
   "cell_type": "markdown",
   "metadata": {},
   "source": [
    "#### Calculate document embeddings"
   ]
  },
  {
   "cell_type": "code",
   "execution_count": 535,
   "metadata": {},
   "outputs": [],
   "source": [
    "from keras.preprocessing.text import Tokenizer\n",
    "from keras_preprocessing.sequence import pad_sequences\n",
    "\n",
    "\n",
    "tokenizer = Tokenizer(filters='–!\"#$%&”“()*+,-.‘/:;…<=>?@[\\\\]^_`{|}~\\t\\n')\n",
    "tokenizer.fit_on_texts(speeches.speech_cleaned)\n",
    "\n",
    "embedding_dim = 300\n",
    "\n",
    "tokenized_documents=tokenizer.texts_to_sequences(speeches.speech_cleaned)\n",
    "tokenized_paded_documents=pad_sequences(tokenized_documents,maxlen=embedding_dim,padding='post')\n",
    "\n",
    "vocab_size=len(tokenizer.word_index)+1"
   ]
  },
  {
   "cell_type": "code",
   "execution_count": 9,
   "metadata": {},
   "outputs": [],
   "source": [
    "google_news_vectors = gensim.downloader.load('word2vec-google-news-300')"
   ]
  },
  {
   "cell_type": "code",
   "execution_count": 10,
   "metadata": {},
   "outputs": [
    {
     "data": {
      "text/plain": [
       "[('digitial', 0.676041305065155),\n",
       " ('Digital', 0.6294012069702148),\n",
       " ('digital_imaging', 0.6084018349647522),\n",
       " ('digitally', 0.5993913412094116),\n",
       " ('digitization', 0.5817912220954895),\n",
       " ('highdefinition', 0.5789847373962402),\n",
       " ('multimedia', 0.5721380710601807),\n",
       " ('For_VUKUNET_logos', 0.5558314919471741),\n",
       " ('HandHeld_Entertainment_NASDAQ_ZVUE', 0.5478215217590332),\n",
       " ('mpx', 0.5467243194580078)]"
      ]
     },
     "execution_count": 10,
     "metadata": {},
     "output_type": "execute_result"
    }
   ],
   "source": [
    "google_news_vectors.most_similar('digital')"
   ]
  },
  {
   "cell_type": "code",
   "execution_count": 576,
   "metadata": {},
   "outputs": [
    {
     "data": {
      "text/plain": [
       "(1787, 300, 300)"
      ]
     },
     "execution_count": 576,
     "metadata": {},
     "output_type": "execute_result"
    }
   ],
   "source": [
    "# creating embedding matrix, every row is a vector representation from the vocabulary indexed by the tokenizer index. \n",
    "embedding_matrix_google=np.zeros((vocab_size,300))\n",
    "for word,i in tokenizer.word_index.items():\n",
    "    if word in google_news_vectors:\n",
    "        embedding_matrix_google[i]=google_news_vectors[word]\n",
    "# creating document-word embeddings\n",
    "document_word_embeddings_google=np.zeros((len(tokenized_paded_documents),embedding_dim,300))\n",
    "for i in range(len(tokenized_paded_documents)):\n",
    "    for j in range(len(tokenized_paded_documents[0])):\n",
    "        document_word_embeddings_google[i][j]=embedding_matrix_google[tokenized_paded_documents[i][j]]\n",
    "document_word_embeddings_google.shape"
   ]
  },
  {
   "cell_type": "code",
   "execution_count": 539,
   "metadata": {},
   "outputs": [
    {
     "data": {
      "text/plain": [
       "0.744179534362749"
      ]
     },
     "execution_count": 539,
     "metadata": {},
     "output_type": "execute_result"
    }
   ],
   "source": [
    "sum([word in google_news_vectors for word in tokenizer.word_index])/len(tokenizer.word_index)"
   ]
  },
  {
   "cell_type": "code",
   "execution_count": 540,
   "metadata": {},
   "outputs": [
    {
     "data": {
      "text/plain": [
       "(1787, 300)"
      ]
     },
     "execution_count": 540,
     "metadata": {},
     "output_type": "execute_result"
    }
   ],
   "source": [
    "document_word_embeddings_google = np.mean(document_word_embeddings_google, axis=1)\n",
    "document_word_embeddings_google.shape"
   ]
  },
  {
   "cell_type": "markdown",
   "metadata": {},
   "source": [
    "#### Calculating Centroids from dictionaries"
   ]
  },
  {
   "cell_type": "markdown",
   "metadata": {},
   "source": [
    "##### Load data"
   ]
  },
  {
   "cell_type": "code",
   "execution_count": 3,
   "metadata": {},
   "outputs": [],
   "source": [
    "import joblib"
   ]
  },
  {
   "cell_type": "code",
   "execution_count": 4,
   "metadata": {},
   "outputs": [],
   "source": [
    "\n",
    "cognition = joblib.load('C:/Users/Bened/Documents/Git/Emotionality-in-Political-Speech-of-the-EU-Commission/data/emotion_dicts/dictionary_cognition.pkl')\n",
    "affect = joblib.load('C:/Users/Bened/Documents/Git/Emotionality-in-Political-Speech-of-the-EU-Commission/data/emotion_dicts/dictionary_affect.pkl')"
   ]
  },
  {
   "cell_type": "markdown",
   "metadata": {},
   "source": [
    "##### Calculate avg embedding vectors"
   ]
  },
  {
   "cell_type": "code",
   "execution_count": 11,
   "metadata": {},
   "outputs": [],
   "source": [
    "from nltk.stem.snowball import SnowballStemmer\n",
    "stemmer = SnowballStemmer(\"english\")\n",
    "\n",
    "# stem google vector tokens to match with the stemmed dictionary words from LIWC\n",
    "stemmed_google_vectors = {stemmer.stem(tok): google_news_vectors[tok] for tok in google_news_vectors.key_to_index}"
   ]
  },
  {
   "cell_type": "code",
   "execution_count": 12,
   "metadata": {},
   "outputs": [
    {
     "data": {
      "text/plain": [
       "1.0"
      ]
     },
     "execution_count": 12,
     "metadata": {},
     "output_type": "execute_result"
    }
   ],
   "source": [
    "# check the coverage of google embeddings with LIWC words\n",
    "sum([w in stemmed_google_vectors for w in affect])/len(affect)"
   ]
  },
  {
   "cell_type": "code",
   "execution_count": 543,
   "metadata": {},
   "outputs": [
    {
     "data": {
      "text/plain": [
       "1.0"
      ]
     },
     "execution_count": 543,
     "metadata": {},
     "output_type": "execute_result"
    }
   ],
   "source": [
    "sum([w in stemmed_google_vectors for w in cognition])/len(cognition)"
   ]
  },
  {
   "cell_type": "code",
   "execution_count": 13,
   "metadata": {},
   "outputs": [
    {
     "data": {
      "text/plain": [
       "169"
      ]
     },
     "execution_count": 13,
     "metadata": {},
     "output_type": "execute_result"
    }
   ],
   "source": [
    "len(cognition)"
   ]
  },
  {
   "cell_type": "code",
   "execution_count": 14,
   "metadata": {},
   "outputs": [],
   "source": [
    "vecs = [stemmed_google_vectors[w] for w in cognition if w in stemmed_google_vectors]\n",
    "vecs = [v for v in vecs if len(v) > 0]\n",
    "# calculate average of all 300 dim embeddings of each words along axis 0 to get one 300dim embedding representing 'cognitive words'\n",
    "cognition_centroid = np.mean(vecs, axis=0)\n"
   ]
  },
  {
   "cell_type": "code",
   "execution_count": 545,
   "metadata": {},
   "outputs": [],
   "source": [
    "vecs = [stemmed_google_vectors[w] for w in affect if w in stemmed_google_vectors]\n",
    "vecs = [v for v in vecs if len(v) > 0]\n",
    "affect_centroid = np.mean(vecs, axis=0)"
   ]
  },
  {
   "cell_type": "markdown",
   "metadata": {},
   "source": [
    "#### Calculating Emtionality scores for each speech"
   ]
  },
  {
   "cell_type": "code",
   "execution_count": 246,
   "metadata": {},
   "outputs": [],
   "source": [
    "from numpy.linalg import norm\n"
   ]
  },
  {
   "cell_type": "code",
   "execution_count": 360,
   "metadata": {},
   "outputs": [],
   "source": [
    "def cos_sim(A, B):\n",
    "    return np.dot(A,B)/(norm(A)*norm(B))\n",
    "\n",
    "def calc_emotionality_score(doc_emb):\n",
    "    return (cos_sim(doc_emb, affect_centroid) + 1)/(cos_sim(doc_emb, cognition_centroid) + 1)\n",
    "\n",
    "def calc_affect_score(doc_emb):\n",
    "    return cos_sim(doc_emb, affect_centroid)\n",
    "\n",
    "def calc_cognition_score(doc_emb):\n",
    "    return cos_sim(doc_emb, cognition_centroid)\n"
   ]
  },
  {
   "cell_type": "code",
   "execution_count": 546,
   "metadata": {},
   "outputs": [],
   "source": [
    "speeches['emotion_score'] = [calc_emotionality_score(d) for d in document_word_embeddings_google]\n",
    "speeches['affect_score'] = [calc_affect_score(d) for d in document_word_embeddings_google]\n",
    "speeches['cognition_score'] = [calc_cognition_score(d) for d in document_word_embeddings_google]\n",
    "\n"
   ]
  },
  {
   "cell_type": "code",
   "execution_count": 547,
   "metadata": {},
   "outputs": [
    {
     "data": {
      "text/plain": [
       "(array([  2.,  36., 169., 321., 354., 353., 209., 138.,  76.,  41.,  37.,\n",
       "         15.,  10.,   5.,   8.,   7.,   3.,   1.,   0.,   2.]),\n",
       " array([0.10075028, 0.12486622, 0.14898215, 0.17309808, 0.19721402,\n",
       "        0.22132995, 0.24544588, 0.26956182, 0.29367775, 0.31779368,\n",
       "        0.34190962, 0.36602555, 0.39014148, 0.41425742, 0.43837335,\n",
       "        0.46248928, 0.48660522, 0.51072115, 0.53483708, 0.55895301,\n",
       "        0.58306895]),\n",
       " <BarContainer object of 20 artists>)"
      ]
     },
     "execution_count": 547,
     "metadata": {},
     "output_type": "execute_result"
    },
    {
     "data": {
      "image/png": "[encoded data removed]",
      "text/plain": [
       "<Figure size 640x480 with 1 Axes>"
      ]
     },
     "metadata": {},
     "output_type": "display_data"
    }
   ],
   "source": [
    "import matplotlib.pyplot as plt\n",
    "\n",
    "plt.hist(speeches['affect_score'], bins = 20)"
   ]
  },
  {
   "cell_type": "code",
   "execution_count": 548,
   "metadata": {},
   "outputs": [
    {
     "data": {
      "text/plain": [
       "(array([  2.,  36., 169., 321., 354., 353., 209., 138.,  76.,  41.,  37.,\n",
       "         15.,  10.,   5.,   8.,   7.,   3.,   1.,   0.,   2.]),\n",
       " array([0.10075028, 0.12486622, 0.14898215, 0.17309808, 0.19721402,\n",
       "        0.22132995, 0.24544588, 0.26956182, 0.29367775, 0.31779368,\n",
       "        0.34190962, 0.36602555, 0.39014148, 0.41425742, 0.43837335,\n",
       "        0.46248928, 0.48660522, 0.51072115, 0.53483708, 0.55895301,\n",
       "        0.58306895]),\n",
       " <BarContainer object of 20 artists>)"
      ]
     },
     "execution_count": 548,
     "metadata": {},
     "output_type": "execute_result"
    },
    {
     "data": {
      "image/png": "[encoded data removed]",
      "text/plain": [
       "<Figure size 640x480 with 1 Axes>"
      ]
     },
     "metadata": {},
     "output_type": "display_data"
    }
   ],
   "source": [
    "import matplotlib.pyplot as plt\n",
    "\n",
    "plt.hist(speeches['affect_score'], bins = 20)"
   ]
  },
  {
   "cell_type": "markdown",
   "metadata": {},
   "source": [
    "#### Own Embeddings"
   ]
  },
  {
   "cell_type": "code",
   "execution_count": 549,
   "metadata": {},
   "outputs": [],
   "source": [
    "# using same filters as with the google embeddings\n",
    "docs = [word_tokenize(d) for d in tokenizer.sequences_to_texts(tokenized_documents)]\n",
    "tokenized_paded_documents=pad_sequences(tokenized_documents,maxlen=300,padding='post')\n"
   ]
  },
  {
   "cell_type": "code",
   "execution_count": null,
   "metadata": {},
   "outputs": [],
   "source": [
    "# alternative 2: raw tokenization\n",
    "docs = [word_tokenize(d) for d in speeches.speech_cleaned]"
   ]
  },
  {
   "cell_type": "code",
   "execution_count": 550,
   "metadata": {},
   "outputs": [],
   "source": [
    "word2vec_own = Word2Vec(sentences=docs, vector_size=300, window=8, min_count=3, workers=4, epochs=10)\n",
    "own = word2vec_own.wv\n",
    "\n"
   ]
  },
  {
   "cell_type": "code",
   "execution_count": 551,
   "metadata": {},
   "outputs": [
    {
     "data": {
      "text/plain": [
       "(1787, 300)"
      ]
     },
     "execution_count": 551,
     "metadata": {},
     "output_type": "execute_result"
    }
   ],
   "source": [
    "tokenized_paded_documents.shape"
   ]
  },
  {
   "cell_type": "code",
   "execution_count": 570,
   "metadata": {},
   "outputs": [
    {
     "data": {
      "text/plain": [
       "(1787, 300, 300)"
      ]
     },
     "execution_count": 570,
     "metadata": {},
     "output_type": "execute_result"
    }
   ],
   "source": [
    "# creating embedding matrix, every row is a vector representation from the vocabulary indexed by the tokenizer index. \n",
    "embedding_matrix_own=np.zeros((vocab_size,300))\n",
    "for word,i in tokenizer.word_index.items():\n",
    "    if word in own:\n",
    "        embedding_matrix_own[i]=own[word]\n",
    "# creating document-word embeddings\n",
    "document_embeddings_own=np.zeros((len(tokenized_paded_documents),300,300))\n",
    "for i in range(len(tokenized_paded_documents)):\n",
    "    for j in range(len(tokenized_paded_documents[0])):\n",
    "        document_embeddings_own[i][j]=embedding_matrix_own[tokenized_paded_documents[i][j]]\n",
    "document_embeddings_own.shape"
   ]
  },
  {
   "cell_type": "code",
   "execution_count": 553,
   "metadata": {},
   "outputs": [
    {
     "data": {
      "text/plain": [
       "1.0"
      ]
     },
     "execution_count": 553,
     "metadata": {},
     "output_type": "execute_result"
    }
   ],
   "source": [
    "sum([word in own for word in own.key_to_index])/len(own.key_to_index)"
   ]
  },
  {
   "cell_type": "code",
   "execution_count": 554,
   "metadata": {},
   "outputs": [
    {
     "data": {
      "text/plain": [
       "(1787, 300)"
      ]
     },
     "execution_count": 554,
     "metadata": {},
     "output_type": "execute_result"
    }
   ],
   "source": [
    "document_embeddings_own_mean = np.mean(document_embeddings_own, axis=1)\n",
    "document_embeddings_own_mean.shape"
   ]
  },
  {
   "cell_type": "markdown",
   "metadata": {},
   "source": [
    "##### Check emotion dicts are contained in own embeddings"
   ]
  },
  {
   "cell_type": "code",
   "execution_count": 555,
   "metadata": {},
   "outputs": [
    {
     "data": {
      "text/plain": [
       "[('digitalisation', 0.5837000608444214),\n",
       " ('modernisation', 0.50633704662323),\n",
       " ('technological', 0.45326265692710876),\n",
       " ('artificial', 0.4338042438030243),\n",
       " ('modern', 0.4319761395454407),\n",
       " ('industrial', 0.4313698709011078),\n",
       " ('twin', 0.4312397241592407),\n",
       " ('connectivity', 0.4283887445926666),\n",
       " ('entrepreneurial', 0.4269011318683624),\n",
       " ('disruptive', 0.42605891823768616)]"
      ]
     },
     "execution_count": 555,
     "metadata": {},
     "output_type": "execute_result"
    }
   ],
   "source": [
    "own.most_similar('digital')"
   ]
  },
  {
   "cell_type": "code",
   "execution_count": 558,
   "metadata": {},
   "outputs": [],
   "source": [
    "stemmed_own = { stemmer.stem(key): own[key] for key in own.key_to_index }\n",
    "\n"
   ]
  },
  {
   "cell_type": "code",
   "execution_count": 559,
   "metadata": {},
   "outputs": [
    {
     "data": {
      "text/plain": [
       "1.0"
      ]
     },
     "execution_count": 559,
     "metadata": {},
     "output_type": "execute_result"
    }
   ],
   "source": [
    "sum(stemmed_own['europ'] == own['europe'])/len(stemmed_own['europ'] == own['europe'])"
   ]
  },
  {
   "cell_type": "code",
   "execution_count": 560,
   "metadata": {},
   "outputs": [
    {
     "data": {
      "text/plain": [
       "0.3624801271860095"
      ]
     },
     "execution_count": 560,
     "metadata": {},
     "output_type": "execute_result"
    }
   ],
   "source": [
    "sum([w in stemmed_own for w in affect])/len(affect)"
   ]
  },
  {
   "cell_type": "code",
   "execution_count": 561,
   "metadata": {},
   "outputs": [
    {
     "data": {
      "text/plain": [
       "0.6272189349112426"
      ]
     },
     "execution_count": 561,
     "metadata": {},
     "output_type": "execute_result"
    }
   ],
   "source": [
    "sum([w in stemmed_own for w in cognition])/len(cognition)"
   ]
  },
  {
   "cell_type": "code",
   "execution_count": 562,
   "metadata": {},
   "outputs": [],
   "source": [
    "vecs = [stemmed_own[w] for w in cognition if w in stemmed_own]\n",
    "vecs = [v for v in vecs if len(v) > 0]\n",
    "cognition_centroid = np.mean(vecs, axis=0)"
   ]
  },
  {
   "cell_type": "code",
   "execution_count": 563,
   "metadata": {},
   "outputs": [],
   "source": [
    "vecs = [stemmed_own[w] for w in affect if w in stemmed_own]\n",
    "vecs = [v for v in vecs if len(v) > 0]\n",
    "affect_centroid = np.mean(vecs, axis=0)"
   ]
  },
  {
   "cell_type": "code",
   "execution_count": 564,
   "metadata": {},
   "outputs": [],
   "source": [
    "speeches['emotion_score_own_embedding'] = [calc_emotionality_score(d) for d in document_embeddings_own_mean]\n",
    "speeches['affect_score_own_embedding'] = [calc_affect_score(d) for d in document_embeddings_own_mean]\n",
    "speeches['cognition_score_own_embedding'] = [calc_cognition_score(d) for d in document_embeddings_own_mean]"
   ]
  },
  {
   "cell_type": "code",
   "execution_count": 565,
   "metadata": {},
   "outputs": [
    {
     "data": {
      "text/plain": [
       "(array([ 22., 113., 180., 217., 209., 227., 218., 149., 154.,  81.,  66.,\n",
       "         43.,  23.,  24.,  20.,  11.,  10.,  10.,   5.,   5.]),\n",
       " array([-0.29775855, -0.24684082, -0.19592309, -0.14500536, -0.09408762,\n",
       "        -0.04316989,  0.00774784,  0.05866557,  0.10958331,  0.16050104,\n",
       "         0.21141877,  0.2623365 ,  0.31325424,  0.36417197,  0.4150897 ,\n",
       "         0.46600743,  0.51692517,  0.5678429 ,  0.61876063,  0.66967836,\n",
       "         0.7205961 ]),\n",
       " <BarContainer object of 20 artists>)"
      ]
     },
     "execution_count": 565,
     "metadata": {},
     "output_type": "execute_result"
    },
    {
     "data": {
      "image/png": "[encoded data removed]",
      "text/plain": [
       "<Figure size 640x480 with 1 Axes>"
      ]
     },
     "metadata": {},
     "output_type": "display_data"
    }
   ],
   "source": [
    "\n",
    "plt.hist(speeches['affect_score_own_embedding'], bins = 20)"
   ]
  },
  {
   "cell_type": "markdown",
   "metadata": {},
   "source": [
    "#### Using TFIDF Weighting"
   ]
  },
  {
   "cell_type": "markdown",
   "metadata": {},
   "source": [
    "##### Own Embedding"
   ]
  },
  {
   "cell_type": "code",
   "execution_count": 566,
   "metadata": {},
   "outputs": [
    {
     "data": {
      "text/plain": [
       "(1787, 24999)"
      ]
     },
     "execution_count": 566,
     "metadata": {},
     "output_type": "execute_result"
    }
   ],
   "source": [
    "tfidf = tokenizer.texts_to_matrix(speeches.speech_cleaned, mode=\"tfidf\")\n",
    "tfidf.shape"
   ]
  },
  {
   "cell_type": "code",
   "execution_count": 567,
   "metadata": {},
   "outputs": [
    {
     "data": {
      "text/plain": [
       "4.244641672733369"
      ]
     },
     "execution_count": 567,
     "metadata": {},
     "output_type": "execute_result"
    }
   ],
   "source": [
    "# Check (cannot be 0)\n",
    "tfidf[0][tokenizer.word_index['david']]"
   ]
  },
  {
   "cell_type": "code",
   "execution_count": 523,
   "metadata": {},
   "outputs": [
    {
     "data": {
      "text/plain": [
       "25327"
      ]
     },
     "execution_count": 523,
     "metadata": {},
     "output_type": "execute_result"
    }
   ],
   "source": [
    "len(words)"
   ]
  },
  {
   "cell_type": "code",
   "execution_count": 571,
   "metadata": {},
   "outputs": [
    {
     "data": {
      "text/plain": [
       "(24999, 300)"
      ]
     },
     "execution_count": 571,
     "metadata": {},
     "output_type": "execute_result"
    }
   ],
   "source": [
    "embedding_matrix_own.shape"
   ]
  },
  {
   "cell_type": "code",
   "execution_count": 572,
   "metadata": {},
   "outputs": [
    {
     "name": "stdout",
     "output_type": "stream",
     "text": [
      "(1787, 300)\n"
     ]
    }
   ],
   "source": [
    "document_embeddings_weighted=np.zeros((len(tokenized_paded_documents),300))\n",
    "words=list(tokenizer.word_index.keys())\n",
    "for i in range(len(document_embeddings_own)):\n",
    "    for j in range(len(words)):\n",
    "        document_embeddings_weighted[i]+=embedding_matrix_own[tokenizer.word_index[words[j]]]*tfidf[i][j]\n",
    "print(document_embeddings_weighted.shape)"
   ]
  },
  {
   "cell_type": "code",
   "execution_count": 574,
   "metadata": {},
   "outputs": [],
   "source": [
    "speeches['emotion_score_own_embedding_tfidf'] = [calc_emotionality_score(d) for d in document_embeddings_weighted]\n",
    "speeches['affect_score_own_embedding_tfidf'] = [calc_affect_score(d) for d in document_embeddings_weighted]\n",
    "speeches['cognition_score_own_embedding_tfidf'] = [calc_cognition_score(d) for d in document_embeddings_weighted]"
   ]
  },
  {
   "cell_type": "markdown",
   "metadata": {},
   "source": [
    "##### Google embedding"
   ]
  },
  {
   "cell_type": "code",
   "execution_count": 577,
   "metadata": {},
   "outputs": [
    {
     "name": "stdout",
     "output_type": "stream",
     "text": [
      "(1787, 300)\n"
     ]
    }
   ],
   "source": [
    "document_embeddings_google_weighted=np.zeros((len(tokenized_paded_documents),300))\n",
    "words=list(tokenizer.word_index.keys())\n",
    "for i in range(len(document_embeddings_own)):\n",
    "    for j in range(len(words)):\n",
    "        document_embeddings_google_weighted[i]+=embedding_matrix_google[tokenizer.word_index[words[j]]]*tfidf[i][j]\n",
    "print(document_embeddings_google_weighted.shape)"
   ]
  },
  {
   "cell_type": "code",
   "execution_count": 578,
   "metadata": {},
   "outputs": [],
   "source": [
    "speeches['emotion_score_tfidf'] = [calc_emotionality_score(d) for d in document_embeddings_weighted]\n",
    "speeches['affect_score_tfidf'] = [calc_affect_score(d) for d in document_embeddings_weighted]\n",
    "speeches['cognition_score_tfidf'] = [calc_cognition_score(d) for d in document_embeddings_weighted]"
   ]
  },
  {
   "cell_type": "code",
   "execution_count": 580,
   "metadata": {},
   "outputs": [],
   "source": [
    "speeches.to_csv(\"../../data/speeches_w_emotion_score.csv\", sep=\";\")"
   ]
  }
 ],
 "metadata": {
  "kernelspec": {
   "display_name": "Python 3.10.6 64-bit",
   "language": "python",
   "name": "python3"
  },
  "language_info": {
   "codemirror_mode": {
    "name": "ipython",
    "version": 3
   },
   "file_extension": ".py",
   "mimetype": "text/x-python",
   "name": "python",
   "nbconvert_exporter": "python",
   "pygments_lexer": "ipython3",
   "version": "3.10.6"
  },
  "orig_nbformat": 4,
  "vscode": {
   "interpreter": {
    "hash": "05741b0d87c04d8ac43333bed0924de96eecbf0ec1bc2862921bb8e7d14b7822"
   }
  }
 },
 "nbformat": 4,
 "nbformat_minor": 2
}
