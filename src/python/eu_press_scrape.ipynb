{
 "cells": [
  {
   "cell_type": "code",
   "execution_count": 1,
   "metadata": {},
   "outputs": [],
   "source": [
    "import requests \n",
    "import pandas as pd\n",
    "import numpy as np \n",
    "from bs4 import BeautifulSoup\n",
    "import os"
   ]
  },
  {
   "cell_type": "code",
   "execution_count": 15,
   "metadata": {},
   "outputs": [
    {
     "data": {
      "text/plain": [
       "'c:\\\\Users\\\\Bened\\\\AppData\\\\Local\\\\Programs\\\\Python\\\\Python310\\\\lib\\\\site-packages\\\\chromedriver_autoinstaller\\\\107\\\\chromedriver.exe'"
      ]
     },
     "execution_count": 15,
     "metadata": {},
     "output_type": "execute_result"
    }
   ],
   "source": [
    "import chromedriver_autoinstaller\n",
    "\n",
    "\n",
    "chromedriver_autoinstaller.install()"
   ]
  },
  {
   "cell_type": "code",
   "execution_count": 230,
   "metadata": {},
   "outputs": [],
   "source": [
    "from selenium import webdriver\n",
    "from selenium.webdriver.common.by import By\n",
    "from selenium.webdriver.support.ui import WebDriverWait\n",
    "from selenium.webdriver.support import expected_conditions as EC\n",
    "import time\n",
    "import math\n",
    "\n",
    "\n",
    "\n",
    "# Make sure chrome driver is in your path,\n",
    "# full download totorial on official python selenium website.\n",
    "\n",
    "# Start broswer with sudoku.com\n",
    "driver = webdriver.Chrome()\n"
   ]
  },
  {
   "cell_type": "code",
   "execution_count": 185,
   "metadata": {},
   "outputs": [],
   "source": [
    "commissioners = {\n",
    "    '184': 'Phil Hogan',\n",
    "    '881': 'Ursula von der Leyen',\n",
    "    '981': 'Josep Borrell Fontelles',\n",
    "    '991': 'Thierry Breton',\n",
    "    '990': 'Helena Dalli',\n",
    "    '166': 'Valdis Dombrovskis',\n",
    "    '987': 'Elisa Ferreira',\n",
    "    '761': 'Mariya Gabriel',\n",
    "    '985': 'Paolo Gentiloni',\n",
    "    '180': 'Johannes Hahn',\n",
    "    '992': 'Ylva Johansson',\n",
    "    '186': 'Věra Jourová',\n",
    "    '988': 'Stella Kyriakides',\n",
    "    '993': 'Janez Lenarčič',\n",
    "    '1201': 'Mairead McGuinness',\n",
    "    '989': 'Didier Reynders',\n",
    "    '983': 'Margaritis Schinas',\n",
    "    '181': 'Margrethe Vestager',\n",
    "    '984': 'Nicolas Schmit',\n",
    "    '986': 'Janusz Wojciechowski',\n",
    "    '183': 'Maroš Šefčovič',\n",
    "    '995': 'Kadri Simson',\n",
    "    '996': 'Virginijus Sinkevičius',\n",
    "    '982': 'Dubravka Šuica',\n",
    "    '162': 'Frans Timmermans',\n",
    "    '994': 'Jutta Urpilainen',\n",
    "    '997': 'Adina Vălean',\n",
    "    '998': 'Olivér Várhelyi'\n",
    "}"
   ]
  },
  {
   "cell_type": "code",
   "execution_count": 186,
   "metadata": {},
   "outputs": [],
   "source": [
    "def roundup(x):\n",
    "    return int(math.ceil(x / 10.0)) * 10"
   ]
  },
  {
   "cell_type": "code",
   "execution_count": 187,
   "metadata": {},
   "outputs": [
    {
     "data": {
      "text/plain": [
       "2070"
      ]
     },
     "execution_count": 187,
     "metadata": {},
     "output_type": "execute_result"
    }
   ],
   "source": [
    "roundup(2067)"
   ]
  },
  {
   "cell_type": "code",
   "execution_count": 197,
   "metadata": {},
   "outputs": [
    {
     "name": "stdout",
     "output_type": "stream",
     "text": [
      "Next Commissioner: Phil Hogan\n",
      "Number of Pages to Parse: 27\n",
      "Next Commissioner: Ursula von der Leyen\n",
      "Number of Pages to Parse: 27\n",
      "Next Commissioner: Josep Borrell Fontelles\n",
      "Number of Pages to Parse: 1\n",
      "Next Commissioner: Thierry Breton\n",
      "Number of Pages to Parse: 3\n",
      "Next Commissioner: Helena Dalli\n",
      "Number of Pages to Parse: 1\n",
      "Next Commissioner: Valdis Dombrovskis\n",
      "Number of Pages to Parse: 49\n",
      "Next Commissioner: Elisa Ferreira\n",
      "Number of Pages to Parse: 1\n",
      "Next Commissioner: Mariya Gabriel\n",
      "Number of Pages to Parse: 21\n",
      "Next Commissioner: Paolo Gentiloni\n",
      "Number of Pages to Parse: 8\n",
      "Next Commissioner: Johannes Hahn\n",
      "Number of Pages to Parse: 5\n",
      "Next Commissioner: Ylva Johansson\n",
      "Number of Pages to Parse: 1\n",
      "Next Commissioner: Věra Jourová\n",
      "Number of Pages to Parse: 22\n",
      "Next Commissioner: Stella Kyriakides\n",
      "Number of Pages to Parse: 4\n",
      "Next Commissioner: Janez Lenarčič\n",
      "Number of Pages to Parse: 1\n",
      "Next Commissioner: Mairead McGuinness\n",
      "Number of Pages to Parse: 1\n",
      "Next Commissioner: Didier Reynders\n",
      "Number of Pages to Parse: 1\n",
      "Next Commissioner: Margaritis Schinas\n",
      "Number of Pages to Parse: 3\n",
      "Next Commissioner: Margrethe Vestager\n",
      "Number of Pages to Parse: 4\n",
      "Next Commissioner: Nicolas Schmit\n",
      "Number of Pages to Parse: 2\n",
      "Next Commissioner: Janusz Wojciechowski\n",
      "Number of Pages to Parse: 1\n",
      "Next Commissioner: Maroš Šefčovič\n",
      "Number of Pages to Parse: 15\n",
      "Next Commissioner: Kadri Simson\n",
      "Number of Pages to Parse: 15\n",
      "Next Commissioner: Virginijus Sinkevičius\n",
      "Number of Pages to Parse: 3\n",
      "Next Commissioner: Dubravka Šuica\n",
      "Number of Pages to Parse: 1\n",
      "Next Commissioner: Frans Timmermans\n",
      "Number of Pages to Parse: 9\n",
      "Next Commissioner: Jutta Urpilainen\n",
      "Number of Pages to Parse: 1\n",
      "Next Commissioner: Adina Vălean\n",
      "Number of Pages to Parse: 1\n",
      "Next Commissioner: Olivér Várhelyi\n",
      "Number of Pages to Parse: 1\n"
     ]
    }
   ],
   "source": [
    "links = []\n",
    "for key in commissioners:\n",
    "    print(f\"Next Commissioner: {commissioners[key]}\")\n",
    "\n",
    "    driver.get(f\"https://ec.europa.eu/commission/presscorner/advancedsearch/en?keywords=&dotyp=4&parea=&pareaType=&datepickerbefore=&datebefore=&commissioner={key}&datepickerafter=&dateafter=&pagenumber=\")\n",
    "\n",
    "    time.sleep(2.5)\n",
    "    \n",
    "    n_results = driver.find_element(By.XPATH, '/html/body/app-root/app-advancedsearch/main/div/div[2]/section/div[1]/span').text.replace(\"(\", \"\").replace(\")\", \"\")\n",
    "\n",
    "    n_pages = int(roundup(int(n_results))/10)\n",
    "\n",
    "    print(f\"Number of Pages to Parse: {n_pages}\")\n",
    "\n",
    "    for i in range(n_pages):\n",
    "        i = i+1\n",
    "\n",
    "        driver.get(f\"https://ec.europa.eu/commission/presscorner/advancedsearch/en?keywords=&dotyp=4&parea=&pareaType=&datepickerbefore=&datebefore=&commissioner={key}&datepickerafter=&dateafter=&pagenumber=\" + str(i))\n",
    "\n",
    "        time.sleep(2.5)\n",
    "\n",
    "        speeches = driver.find_elements(By.CLASS_NAME, \"ecl-list-item__link\")\n",
    "\n",
    "        links = links + [{'speaker': commissioners[key], 'speaker_id': key, 'link': elem.get_attribute('href')} for elem in speeches]\n",
    "\n",
    "\n",
    "\n"
   ]
  },
  {
   "cell_type": "code",
   "execution_count": 199,
   "metadata": {},
   "outputs": [
    {
     "data": {
      "text/plain": [
       "2150"
      ]
     },
     "execution_count": 199,
     "metadata": {},
     "output_type": "execute_result"
    }
   ],
   "source": [
    "len(links)"
   ]
  },
  {
   "cell_type": "code",
   "execution_count": 211,
   "metadata": {},
   "outputs": [],
   "source": [
    "from tqdm import tqdm"
   ]
  },
  {
   "cell_type": "code",
   "execution_count": 262,
   "metadata": {},
   "outputs": [
    {
     "name": "stderr",
     "output_type": "stream",
     "text": [
      "100%|██████████| 2150/2150 [1:59:34<00:00,  3.34s/it]  \n"
     ]
    }
   ],
   "source": [
    "out = []\n",
    "for link in tqdm(links):\n",
    "\n",
    "    try:\n",
    "        driver.get(link['link'])\n",
    "    except:\n",
    "        continue\n",
    "    \n",
    "    time.sleep(3)\n",
    "\n",
    "    try:\n",
    "        el = driver.find_element(By.CLASS_NAME, \"ecl-paragraph\")\n",
    "        speech = el.text\n",
    "        speech = speech.replace('\\n', ' ')\n",
    "        speech = speech.replace('(Check against delivery)', '').strip()\n",
    "    except:\n",
    "        speech = \"None\"\n",
    "\n",
    "    try:\n",
    "        title = driver.find_element(By.CLASS_NAME, \"ecl-page-header__title\").find_element(By.CSS_SELECTOR, 'h1').text\n",
    "\n",
    "        meta = driver.find_element(By.CLASS_NAME, \"ecl-meta--header\").find_elements(By.CLASS_NAME, 'ecl-meta__item')\n",
    "\n",
    "        meta_tags = [p.text for p in meta]\n",
    "    except:\n",
    "        title = \"None\"\n",
    "        meta = \"None\"\n",
    "        meta_tags = \"None\"\n",
    "\n",
    "    try:\n",
    "        speech_id = driver.find_element(By.CLASS_NAME, \"ecpr-reference__display\").text\n",
    "    except:\n",
    "        speech_id = \"None\"\n",
    "\n",
    "    try:\n",
    "        date = [i for i in meta_tags if \"20\" in i][0]\n",
    "    except:\n",
    "        date = \"None\"\n",
    "\n",
    "    try:\n",
    "        year = [i for i in meta_tags if \"20\" in i][0].split(\" \")[-1]\n",
    "    except:\n",
    "        year = \"None\"\n",
    "\n",
    "\n",
    "    item = {\n",
    "        'speech_id': speech_id,\n",
    "        'speaker': link['speaker'],\n",
    "        'speaker_id': link['speaker_id'],\n",
    "        'date': date,\n",
    "        'year': year,\n",
    "        'title': title,\n",
    "        'meta_tags': '|'.join(meta_tags),\n",
    "        'link':link['link'],\n",
    "        'speech': speech,\n",
    "    }\n",
    "\n",
    "    out.append(item)\n",
    "\n"
   ]
  },
  {
   "cell_type": "code",
   "execution_count": 263,
   "metadata": {},
   "outputs": [
    {
     "data": {
      "text/plain": [
       "{'speech_id': 'SPEECH/19/7322',\n",
       " 'speaker': 'Phil Hogan',\n",
       " 'speaker_id': '184',\n",
       " 'date': '14 October 2019',\n",
       " 'year': '2019',\n",
       " 'title': 'Intervention for the Plenary on SOFI Launch (Rome, 14/10/2019)',\n",
       " 'meta_tags': 'Speech|14 October 2019|Brussels',\n",
       " 'link': 'https://ec.europa.eu/commission/presscorner/detail/en/speech_19_7322',\n",
       " 'speech': \"Distinguished Guests, Ladies and Gentlemen, From the very start of my mandate in the European Commission, I have put sustainable agriculture, food security and nutrition at the heart of our work on international cooperation and development. Because, it is absolutely clear that solving the hunger question is decisive for our work on all 17 Sustainable Development Goals. However, this year's SOFI report is a stark reminder that we are not making progress and that we have to change course. There are too many people still going hungry. Too many people without access to safe and nutritious food. And too many stunted children. Having adequate food for all demands an integrated outlook on agriculture, food security and nutrition. And a true transformation of food systems is of upmost importance. Over the past few years, we have been moving in this direction. I have made it a priority to drive an inclusive, sustainable and climate-relevant agenda. And in this context, let me mention three recent European initiatives, which I firmly believe are helping to transform agriculture and food systems. One such initiative is DeSIRA – Development Smart Innovation through Research in Agriculture. The EU is mobilising 270 million euros to boost development-smart innovation in the context of climate change, working in close cooperation with the EU Member States and the Bill and Melinda Gates Foundation. Actions range from agroforestry to plant breeding, and from water management to agro-ecological intensification. Many of the DeSIRA actions draw the crucial link between climate-relevant research and innovation and development initiatives. Secondly, by revolutionising our way of working with the private sector, we are raising more investment for smallholders and rural agricultural businesses. As we are here in the ancient city of Rome, let me say how proud I was to launch, earlier this year in this city, the Agri-Business Capital Fund with IFAD, AGRA and Luxembourg. The Fund is a unique way of leveraging financing for small investments, making it accessible to farmer organisations and cooperatives.   Finally, the third initiative I would like to mention is a subject I hold dear. At the start of my mandate, I pledged to be the most vocal male feminist in the European Commission, because I firmly believe that empowering women and girls will determine our success in eradicating poverty and achieving sustainable development for all. This is why I have made it my mission to mainstream gender equality in as many development programmes and projects as possible. By doing so, we are tackling deeply entrenched social norms and behaviours lying at the heart of gender inequality. In the areas of agriculture, food security and nutrition, the share of EU programmes and projects focusing on gender increased from 37% in 2014 to 57% in 2018. With that said, let me end on this note. When looking at the global picture on agriculture, food security and nutrition, huge challenges remain. However, we have opened a new chapter in how we look at and deal with the problems. By pursuing and scaling up the initiatives like those on research and innovation, private sector engagement in development partnership and gender relevant programmes… By investing in resilience of rural women, rural youth, and rural communities… By continuing to draw those important links between food systems and the wider sustainability and climate-relevant agenda… We can make progress in the years ahead. We can do more than dream about a world free from hunger. Together can make it a reality. Thank you.\"}"
      ]
     },
     "execution_count": 263,
     "metadata": {},
     "output_type": "execute_result"
    }
   ],
   "source": [
    "out[1]"
   ]
  },
  {
   "cell_type": "code",
   "execution_count": 236,
   "metadata": {},
   "outputs": [
    {
     "data": {
      "text/plain": [
       "\"I am delighted to be here in Addis Ababa alongside Chairperson Faki to sign the European Union's contribution of 800 million euros to the African Peace Facility for the period 2019-2020.\\nToday's signature brings the total European Union support to African efforts for peace and security to 3.4 billion euros. In signing this agreement today, we commit substantial funding and contribute to the strategic partnership that Europe and Africa are building together in all areas, including peace and security.\\nIt is a partnership that we can be proud of. It shows our shared understanding of the need to address common threats and to secure the best conditions for growth and development in Africa.\\nBecause it goes without saying that, wherever in the world we may live, peace and security offer the basic climate in which economic, social and human development can thrive.\\nBut let me be clear: Africa is in the driving seat; we want to support our African partners in delivering African solutions to conflicts on the continent. That is why today's agreement will pursue three main objectives:\\nFirstly, it will boost our partners' capacities to plan and conduct peace support operations, with a focus on gender and human rights;\\nSecondly, it will help develop an Early Response Mechanism.\\n  This is important because, ultimately, early response is often what determines whether a conflict escalates or is prevented;\\nThirdly, it will finance the deployment of African-led peace support operations, from Somalia to the Sahel.\\nToday's agreement sends out a clear signal that the African Union and the European Union stand shoulder to shoulder in their commitment to champion peace and security throughout Africa. And we invite all other actors present on the continent to work around the same lines.\\n  Ladies and Gentlemen,\\nThis is probably my last visit to Addis Ababa before a new European Commission takes office. I would like to take this opportunity to wholeheartedly welcome the African Union's latest steps towards an African Continental Free Trade Area at the Niamey Summit.\\nThe partnership beyond Africa and Europe has moved from a donor-recipient relationship to a partnership of equals. And to what is being more and more being referred to as an Alliance.\\nI wish my friends at the African Union and my successor as Commissioner the best of luck in making that happen. Europe and Africa share a bright future.\\nThank you.\\n(Check against delivery)\""
      ]
     },
     "execution_count": 236,
     "metadata": {},
     "output_type": "execute_result"
    }
   ],
   "source": [
    "try:\n",
    "    driver.get('https://ec.europa.eu/commission/presscorner/detail/en/speech_19_7314')\n",
    "except:\n",
    "    pass\n",
    "\n",
    "time.sleep(3)\n",
    "\n",
    "el = driver.find_element(By.CLASS_NAME, \"ecl-paragraph\")\n",
    "paragraphs = el.text\n",
    "\n",
    "\n",
    "paragraphs"
   ]
  },
  {
   "cell_type": "code",
   "execution_count": 227,
   "metadata": {},
   "outputs": [
    {
     "ename": "IndexError",
     "evalue": "list index out of range",
     "output_type": "error",
     "traceback": [
      "\u001b[1;31m---------------------------------------------------------------------------\u001b[0m",
      "\u001b[1;31mIndexError\u001b[0m                                Traceback (most recent call last)",
      "\u001b[1;32mc:\\Users\\Bened\\Documents\\Git\\antitRust\\src\\python\\eu_press_scrape.ipynb Cell 11\u001b[0m in \u001b[0;36m<cell line: 1>\u001b[1;34m()\u001b[0m\n\u001b[1;32m----> <a href='vscode-notebook-cell:/c%3A/Users/Bened/Documents/Git/antitRust/src/python/eu_press_scrape.ipynb#X11sZmlsZQ%3D%3D?line=0'>1</a>\u001b[0m out[\u001b[39m1000\u001b[39;49m]\n",
      "\u001b[1;31mIndexError\u001b[0m: list index out of range"
     ]
    }
   ],
   "source": [
    "out[1000]"
   ]
  },
  {
   "cell_type": "code",
   "execution_count": 281,
   "metadata": {},
   "outputs": [
    {
     "data": {
      "text/html": [
       "<div>\n",
       "<style scoped>\n",
       "    .dataframe tbody tr th:only-of-type {\n",
       "        vertical-align: middle;\n",
       "    }\n",
       "\n",
       "    .dataframe tbody tr th {\n",
       "        vertical-align: top;\n",
       "    }\n",
       "\n",
       "    .dataframe thead th {\n",
       "        text-align: right;\n",
       "    }\n",
       "</style>\n",
       "<table border=\"1\" class=\"dataframe\">\n",
       "  <thead>\n",
       "    <tr style=\"text-align: right;\">\n",
       "      <th></th>\n",
       "      <th>speaker</th>\n",
       "      <th>speaker_id</th>\n",
       "      <th>link</th>\n",
       "    </tr>\n",
       "  </thead>\n",
       "  <tbody>\n",
       "    <tr>\n",
       "      <th>0</th>\n",
       "      <td>Phil Hogan</td>\n",
       "      <td>184</td>\n",
       "      <td>https://ec.europa.eu/commission/presscorner/de...</td>\n",
       "    </tr>\n",
       "    <tr>\n",
       "      <th>1</th>\n",
       "      <td>Phil Hogan</td>\n",
       "      <td>184</td>\n",
       "      <td>https://ec.europa.eu/commission/presscorner/de...</td>\n",
       "    </tr>\n",
       "    <tr>\n",
       "      <th>2</th>\n",
       "      <td>Phil Hogan</td>\n",
       "      <td>184</td>\n",
       "      <td>https://ec.europa.eu/commission/presscorner/de...</td>\n",
       "    </tr>\n",
       "    <tr>\n",
       "      <th>3</th>\n",
       "      <td>Phil Hogan</td>\n",
       "      <td>184</td>\n",
       "      <td>https://ec.europa.eu/commission/presscorner/de...</td>\n",
       "    </tr>\n",
       "    <tr>\n",
       "      <th>4</th>\n",
       "      <td>Phil Hogan</td>\n",
       "      <td>184</td>\n",
       "      <td>https://ec.europa.eu/commission/presscorner/de...</td>\n",
       "    </tr>\n",
       "    <tr>\n",
       "      <th>...</th>\n",
       "      <td>...</td>\n",
       "      <td>...</td>\n",
       "      <td>...</td>\n",
       "    </tr>\n",
       "    <tr>\n",
       "      <th>2145</th>\n",
       "      <td>Adina Vălean</td>\n",
       "      <td>997</td>\n",
       "      <td>https://ec.europa.eu/commission/presscorner/de...</td>\n",
       "    </tr>\n",
       "    <tr>\n",
       "      <th>2146</th>\n",
       "      <td>Adina Vălean</td>\n",
       "      <td>997</td>\n",
       "      <td>https://ec.europa.eu/commission/presscorner/de...</td>\n",
       "    </tr>\n",
       "    <tr>\n",
       "      <th>2147</th>\n",
       "      <td>Adina Vălean</td>\n",
       "      <td>997</td>\n",
       "      <td>https://ec.europa.eu/commission/presscorner/de...</td>\n",
       "    </tr>\n",
       "    <tr>\n",
       "      <th>2148</th>\n",
       "      <td>Olivér Várhelyi</td>\n",
       "      <td>998</td>\n",
       "      <td>https://ec.europa.eu/commission/presscorner/de...</td>\n",
       "    </tr>\n",
       "    <tr>\n",
       "      <th>2149</th>\n",
       "      <td>Olivér Várhelyi</td>\n",
       "      <td>998</td>\n",
       "      <td>https://ec.europa.eu/commission/presscorner/de...</td>\n",
       "    </tr>\n",
       "  </tbody>\n",
       "</table>\n",
       "<p>2150 rows × 3 columns</p>\n",
       "</div>"
      ],
      "text/plain": [
       "              speaker speaker_id  \\\n",
       "0          Phil Hogan        184   \n",
       "1          Phil Hogan        184   \n",
       "2          Phil Hogan        184   \n",
       "3          Phil Hogan        184   \n",
       "4          Phil Hogan        184   \n",
       "...               ...        ...   \n",
       "2145     Adina Vălean        997   \n",
       "2146     Adina Vălean        997   \n",
       "2147     Adina Vălean        997   \n",
       "2148  Olivér Várhelyi        998   \n",
       "2149  Olivér Várhelyi        998   \n",
       "\n",
       "                                                   link  \n",
       "0     https://ec.europa.eu/commission/presscorner/de...  \n",
       "1     https://ec.europa.eu/commission/presscorner/de...  \n",
       "2     https://ec.europa.eu/commission/presscorner/de...  \n",
       "3     https://ec.europa.eu/commission/presscorner/de...  \n",
       "4     https://ec.europa.eu/commission/presscorner/de...  \n",
       "...                                                 ...  \n",
       "2145  https://ec.europa.eu/commission/presscorner/de...  \n",
       "2146  https://ec.europa.eu/commission/presscorner/de...  \n",
       "2147  https://ec.europa.eu/commission/presscorner/de...  \n",
       "2148  https://ec.europa.eu/commission/presscorner/de...  \n",
       "2149  https://ec.europa.eu/commission/presscorner/de...  \n",
       "\n",
       "[2150 rows x 3 columns]"
      ]
     },
     "execution_count": 281,
     "metadata": {},
     "output_type": "execute_result"
    }
   ],
   "source": [
    "links_df = pd.DataFrame.from_dict(links)\n",
    "links_df"
   ]
  },
  {
   "cell_type": "code",
   "execution_count": 264,
   "metadata": {},
   "outputs": [
    {
     "data": {
      "text/html": [
       "<div>\n",
       "<style scoped>\n",
       "    .dataframe tbody tr th:only-of-type {\n",
       "        vertical-align: middle;\n",
       "    }\n",
       "\n",
       "    .dataframe tbody tr th {\n",
       "        vertical-align: top;\n",
       "    }\n",
       "\n",
       "    .dataframe thead th {\n",
       "        text-align: right;\n",
       "    }\n",
       "</style>\n",
       "<table border=\"1\" class=\"dataframe\">\n",
       "  <thead>\n",
       "    <tr style=\"text-align: right;\">\n",
       "      <th></th>\n",
       "      <th>speech_id</th>\n",
       "      <th>speaker</th>\n",
       "      <th>speaker_id</th>\n",
       "      <th>date</th>\n",
       "      <th>year</th>\n",
       "      <th>title</th>\n",
       "      <th>meta_tags</th>\n",
       "      <th>link</th>\n",
       "      <th>speech</th>\n",
       "    </tr>\n",
       "  </thead>\n",
       "  <tbody>\n",
       "    <tr>\n",
       "      <th>0</th>\n",
       "      <td>SPEECH/19/7325</td>\n",
       "      <td>Phil Hogan</td>\n",
       "      <td>184</td>\n",
       "      <td>14 October 2019</td>\n",
       "      <td>2019</td>\n",
       "      <td>Side Event of the Global Network Against Food ...</td>\n",
       "      <td>Speech|14 October 2019|Brussels</td>\n",
       "      <td>https://ec.europa.eu/commission/presscorner/de...</td>\n",
       "      <td>Dear David, Dear Dongyu, Distinguished Guests,...</td>\n",
       "    </tr>\n",
       "    <tr>\n",
       "      <th>1</th>\n",
       "      <td>SPEECH/19/7322</td>\n",
       "      <td>Phil Hogan</td>\n",
       "      <td>184</td>\n",
       "      <td>14 October 2019</td>\n",
       "      <td>2019</td>\n",
       "      <td>Intervention for the Plenary on SOFI Launch (R...</td>\n",
       "      <td>Speech|14 October 2019|Brussels</td>\n",
       "      <td>https://ec.europa.eu/commission/presscorner/de...</td>\n",
       "      <td>Distinguished Guests, Ladies and Gentlemen, Fr...</td>\n",
       "    </tr>\n",
       "    <tr>\n",
       "      <th>2</th>\n",
       "      <td>SPEECH/19/7324</td>\n",
       "      <td>Phil Hogan</td>\n",
       "      <td>184</td>\n",
       "      <td>14 October 2019</td>\n",
       "      <td>2019</td>\n",
       "      <td>Signature 9 million euros contract (Rome, 14/1...</td>\n",
       "      <td>Speech|14 October 2019|Brussels</td>\n",
       "      <td>https://ec.europa.eu/commission/presscorner/de...</td>\n",
       "      <td>Ladies and Gentlemen, Dear colleagues, Dear Qu...</td>\n",
       "    </tr>\n",
       "    <tr>\n",
       "      <th>3</th>\n",
       "      <td>SPEECH/19/7277</td>\n",
       "      <td>Phil Hogan</td>\n",
       "      <td>184</td>\n",
       "      <td>30 September 2019</td>\n",
       "      <td>2019</td>\n",
       "      <td>Trade For Her – Empowering women through inter...</td>\n",
       "      <td>Speech|30 September 2019|Brussels</td>\n",
       "      <td>https://ec.europa.eu/commission/presscorner/de...</td>\n",
       "      <td>Ladies and Gentlemen, Dear Cecilia, First, let...</td>\n",
       "    </tr>\n",
       "    <tr>\n",
       "      <th>4</th>\n",
       "      <td>SPEECH/19/7309</td>\n",
       "      <td>Phil Hogan</td>\n",
       "      <td>184</td>\n",
       "      <td>26 September 2019</td>\n",
       "      <td>2019</td>\n",
       "      <td>Integrated National Financing Frameworks – a t...</td>\n",
       "      <td>Speech|26 September 2019|Brussels</td>\n",
       "      <td>https://ec.europa.eu/commission/presscorner/de...</td>\n",
       "      <td>Your Excellencies, Distinguished Guests, Ladie...</td>\n",
       "    </tr>\n",
       "    <tr>\n",
       "      <th>...</th>\n",
       "      <td>...</td>\n",
       "      <td>...</td>\n",
       "      <td>...</td>\n",
       "      <td>...</td>\n",
       "      <td>...</td>\n",
       "      <td>...</td>\n",
       "      <td>...</td>\n",
       "      <td>...</td>\n",
       "      <td>...</td>\n",
       "    </tr>\n",
       "    <tr>\n",
       "      <th>2145</th>\n",
       "      <td>SPEECH/22/6767</td>\n",
       "      <td>Adina Vălean</td>\n",
       "      <td>997</td>\n",
       "      <td>10 November 2022</td>\n",
       "      <td>2022</td>\n",
       "      <td>Press conference on the Security and Defence P...</td>\n",
       "      <td>Speech|10 November 2022|Brussels</td>\n",
       "      <td>https://ec.europa.eu/commission/presscorner/de...</td>\n",
       "      <td>Speech by Executive Vice-President Margrethe V...</td>\n",
       "    </tr>\n",
       "    <tr>\n",
       "      <th>2146</th>\n",
       "      <td>SPEECH/21/3707</td>\n",
       "      <td>Adina Vălean</td>\n",
       "      <td>997</td>\n",
       "      <td>15 July 2021</td>\n",
       "      <td>2021</td>\n",
       "      <td>Opening remarks by Executive Vice-President Ti...</td>\n",
       "      <td>Speech|15 July 2021|Brussels</td>\n",
       "      <td>https://ec.europa.eu/commission/presscorner/de...</td>\n",
       "      <td>Opening remarks by Executive Vice-President Ti...</td>\n",
       "    </tr>\n",
       "    <tr>\n",
       "      <th>2147</th>\n",
       "      <td>SPEECH/20/2370</td>\n",
       "      <td>Adina Vălean</td>\n",
       "      <td>997</td>\n",
       "      <td>9 December 2020</td>\n",
       "      <td>2020</td>\n",
       "      <td>Remarks by Executive Vice President Timmermans...</td>\n",
       "      <td>Speech|9 December 2020|Brussels</td>\n",
       "      <td>https://ec.europa.eu/commission/presscorner/de...</td>\n",
       "      <td>Executive Vice-President Timmermans, responsib...</td>\n",
       "    </tr>\n",
       "    <tr>\n",
       "      <th>2148</th>\n",
       "      <td>SPEECH/22/6144</td>\n",
       "      <td>Olivér Várhelyi</td>\n",
       "      <td>998</td>\n",
       "      <td>12 October 2022</td>\n",
       "      <td>2022</td>\n",
       "      <td>Opening remarks by Commissioner Olivér Várhely...</td>\n",
       "      <td>Speech|12 October 2022|Brussels</td>\n",
       "      <td>https://ec.europa.eu/commission/presscorner/de...</td>\n",
       "      <td>Good afternoon, ladies and gentlemen. Welcome ...</td>\n",
       "    </tr>\n",
       "    <tr>\n",
       "      <th>2149</th>\n",
       "      <td>SPEECH/21/1848</td>\n",
       "      <td>Olivér Várhelyi</td>\n",
       "      <td>998</td>\n",
       "      <td>20 April 2021</td>\n",
       "      <td>2021</td>\n",
       "      <td>Remarks by Commissioner Olivér Várhelyi on the...</td>\n",
       "      <td>Speech|20 April 2021|Brussels</td>\n",
       "      <td>https://ec.europa.eu/commission/presscorner/de...</td>\n",
       "      <td>Check against delivery! Thank you very much, t...</td>\n",
       "    </tr>\n",
       "  </tbody>\n",
       "</table>\n",
       "<p>2150 rows × 9 columns</p>\n",
       "</div>"
      ],
      "text/plain": [
       "           speech_id          speaker speaker_id               date  year  \\\n",
       "0     SPEECH/19/7325       Phil Hogan        184    14 October 2019  2019   \n",
       "1     SPEECH/19/7322       Phil Hogan        184    14 October 2019  2019   \n",
       "2     SPEECH/19/7324       Phil Hogan        184    14 October 2019  2019   \n",
       "3     SPEECH/19/7277       Phil Hogan        184  30 September 2019  2019   \n",
       "4     SPEECH/19/7309       Phil Hogan        184  26 September 2019  2019   \n",
       "...              ...              ...        ...                ...   ...   \n",
       "2145  SPEECH/22/6767     Adina Vălean        997   10 November 2022  2022   \n",
       "2146  SPEECH/21/3707     Adina Vălean        997       15 July 2021  2021   \n",
       "2147  SPEECH/20/2370     Adina Vălean        997    9 December 2020  2020   \n",
       "2148  SPEECH/22/6144  Olivér Várhelyi        998    12 October 2022  2022   \n",
       "2149  SPEECH/21/1848  Olivér Várhelyi        998      20 April 2021  2021   \n",
       "\n",
       "                                                  title  \\\n",
       "0     Side Event of the Global Network Against Food ...   \n",
       "1     Intervention for the Plenary on SOFI Launch (R...   \n",
       "2     Signature 9 million euros contract (Rome, 14/1...   \n",
       "3     Trade For Her – Empowering women through inter...   \n",
       "4     Integrated National Financing Frameworks – a t...   \n",
       "...                                                 ...   \n",
       "2145  Press conference on the Security and Defence P...   \n",
       "2146  Opening remarks by Executive Vice-President Ti...   \n",
       "2147  Remarks by Executive Vice President Timmermans...   \n",
       "2148  Opening remarks by Commissioner Olivér Várhely...   \n",
       "2149  Remarks by Commissioner Olivér Várhelyi on the...   \n",
       "\n",
       "                              meta_tags  \\\n",
       "0       Speech|14 October 2019|Brussels   \n",
       "1       Speech|14 October 2019|Brussels   \n",
       "2       Speech|14 October 2019|Brussels   \n",
       "3     Speech|30 September 2019|Brussels   \n",
       "4     Speech|26 September 2019|Brussels   \n",
       "...                                 ...   \n",
       "2145   Speech|10 November 2022|Brussels   \n",
       "2146       Speech|15 July 2021|Brussels   \n",
       "2147    Speech|9 December 2020|Brussels   \n",
       "2148    Speech|12 October 2022|Brussels   \n",
       "2149      Speech|20 April 2021|Brussels   \n",
       "\n",
       "                                                   link  \\\n",
       "0     https://ec.europa.eu/commission/presscorner/de...   \n",
       "1     https://ec.europa.eu/commission/presscorner/de...   \n",
       "2     https://ec.europa.eu/commission/presscorner/de...   \n",
       "3     https://ec.europa.eu/commission/presscorner/de...   \n",
       "4     https://ec.europa.eu/commission/presscorner/de...   \n",
       "...                                                 ...   \n",
       "2145  https://ec.europa.eu/commission/presscorner/de...   \n",
       "2146  https://ec.europa.eu/commission/presscorner/de...   \n",
       "2147  https://ec.europa.eu/commission/presscorner/de...   \n",
       "2148  https://ec.europa.eu/commission/presscorner/de...   \n",
       "2149  https://ec.europa.eu/commission/presscorner/de...   \n",
       "\n",
       "                                                 speech  \n",
       "0     Dear David, Dear Dongyu, Distinguished Guests,...  \n",
       "1     Distinguished Guests, Ladies and Gentlemen, Fr...  \n",
       "2     Ladies and Gentlemen, Dear colleagues, Dear Qu...  \n",
       "3     Ladies and Gentlemen, Dear Cecilia, First, let...  \n",
       "4     Your Excellencies, Distinguished Guests, Ladie...  \n",
       "...                                                 ...  \n",
       "2145  Speech by Executive Vice-President Margrethe V...  \n",
       "2146  Opening remarks by Executive Vice-President Ti...  \n",
       "2147  Executive Vice-President Timmermans, responsib...  \n",
       "2148  Good afternoon, ladies and gentlemen. Welcome ...  \n",
       "2149  Check against delivery! Thank you very much, t...  \n",
       "\n",
       "[2150 rows x 9 columns]"
      ]
     },
     "execution_count": 264,
     "metadata": {},
     "output_type": "execute_result"
    }
   ],
   "source": [
    "speeches_df = pd.DataFrame.from_dict(out)\n",
    "speeches_df"
   ]
  },
  {
   "cell_type": "code",
   "execution_count": 282,
   "metadata": {},
   "outputs": [],
   "source": [
    "links_df.to_csv(\"links.csv\", sep=\";\")"
   ]
  },
  {
   "cell_type": "code",
   "execution_count": 280,
   "metadata": {},
   "outputs": [],
   "source": [
    "speeches_df.to_csv(\"speeches.csv\", sep=\";\")"
   ]
  },
  {
   "cell_type": "code",
   "execution_count": 268,
   "metadata": {},
   "outputs": [
    {
     "name": "stderr",
     "output_type": "stream",
     "text": [
      "  0%|          | 0/2150 [00:03<?, ?it/s]\n"
     ]
    }
   ],
   "source": [
    "test = []\n",
    "for link in tqdm(links):\n",
    "\n",
    "    try:\n",
    "        #driver.get(link['link'])\n",
    "        driver.get('https://ec.europa.eu/commission/presscorner/detail/en/speech_15_6858')\n",
    "    except:\n",
    "        continue\n",
    "    \n",
    "    time.sleep(3)\n",
    "\n",
    "    try:\n",
    "        el = driver.find_element(By.CLASS_NAME, \"ecl-paragraph\")\n",
    "        speech = el.text\n",
    "        speech = speech.replace('\\n', ' ')\n",
    "        speech = speech.replace('(Check against delivery)', '').strip()\n",
    "    except:\n",
    "        speech = \"None\"\n",
    "\n",
    "    try:\n",
    "        title = driver.find_element(By.CLASS_NAME, \"ecl-page-header__title\").find_element(By.CSS_SELECTOR, 'h1').text\n",
    "\n",
    "        meta = driver.find_element(By.CLASS_NAME, \"ecl-meta--header\").find_elements(By.CLASS_NAME, 'ecl-meta__item')\n",
    "\n",
    "        meta_tags = [p.text for p in meta]\n",
    "    except:\n",
    "        title = \"None\"\n",
    "        meta = \"None\"\n",
    "        meta_tags = \"None\"\n",
    "\n",
    "    try:\n",
    "        speech_id = driver.find_element(By.CLASS_NAME, \"ecpr-reference__display\").text\n",
    "    except:\n",
    "        speech_id = \"None\"\n",
    "\n",
    "    try:\n",
    "        date = [i for i in meta_tags if \"20\" in i][0]\n",
    "    except:\n",
    "        date = \"None\"\n",
    "\n",
    "    try:\n",
    "        year = [i for i in meta_tags if \"20\" in i][0].split(\" \")[-1]\n",
    "    except:\n",
    "        year = \"None\"\n",
    "\n",
    "\n",
    "    item = {\n",
    "        'speech_id': speech_id,\n",
    "        'speaker': link['speaker'],\n",
    "        'speaker_id': link['speaker_id'],\n",
    "        'date': date,\n",
    "        'year': year,\n",
    "        'title': title,\n",
    "        'meta_tags': '|'.join(meta_tags),\n",
    "        'link':link['link'],\n",
    "        'speech': speech,\n",
    "    }\n",
    "\n",
    "    test.append(item)\n",
    "\n",
    "    break"
   ]
  },
  {
   "cell_type": "code",
   "execution_count": 279,
   "metadata": {},
   "outputs": [
    {
     "data": {
      "text/plain": [
       "\"President Nyusi, Your Excellencies, Ladies and Gentlemen, Let me first express my most sincere condolences to all those who have been affected by cyclones Idai and Kenneth. Too many lives lost; Too many people going hungry; Too many homes and buildings destroyed or damaged. As one of Mozambique's long-standing partners, the European Union is – and will continue to be – by your side in these difficult times. Humanitarian efforts have been very significant and helped with searches, evacuations, food distribution, and shelter The cyclones also triggered one of the biggest EU civil protection operations to date, with over 170 doctors and nurses from EU Member States deployed in Mozambique and the wider region. However, today's conference marks the beginning of a new phase: The one of recovery and reconstruction. So today, let me stress the European Union's unflinching solidarity and support to Mozambique, as it begins this long task. I am pleased to announce an additional 200 million euros of EU support for Mozambique's recovery and reconstruction needs, 100 M€ from the European Commission and 100 M€ from the European Investment Bank, the EU-bank. Based on the Post Disaster Needs Assessment, our funding will go to those most in need, including vulnerable communities, women, children, and disabled people. It will also go: To helping the local economy get back on its feet so people have their livelihoods back; To re-building hospitals and health centres; To making sure families have enough food on the table; And to supporting peace through conflict sensitive programmes. On top of this, 200 M€ of our reconstruction pledge we will be re-orienting our remaining on-going development programmes of 375 M€ to address better immediate reconstruction needs. As of today, we stand ready to work with the Government of Mozambique on identifying most effective national reconstruction and development priorities to be accompanied and supported by our development partnership. Humanitarian and development efforts aside, the European Investment Bank is working to provide 100 M€ concessional funding to Mozambique to finance the reconstruction of essential infrastructure which will be resistant to the effects of climate change, that is preparing a maximum protection against eventual future natural disasters as the ones you went through.   Ladies and Gentlemen, Today's conference takes place against the backdrop of an important political moment for Mozambique. The general elections next October will be crucial for consolidating democracy and achieving permanent peace. The EU will continue to encourage and support your efforts on that road. One last word. The devastating cyclones that have ravaged Mozambique prove one thing very clearly. Climate change is not a problem for tomorrow and the distant future. Climate change is happening right here, right now. The situation could not be more urgent. It is upon us to ensure communities, in particular the most vulnerable, are more resilient to any future natural disasters. But crucially, it is also upon us – as a global community – to step up the fight against climate change. Thank you.\""
      ]
     },
     "execution_count": 279,
     "metadata": {},
     "output_type": "execute_result"
    }
   ],
   "source": [
    "speeches_df[speeches_df['speech_id'] == \"SPEECH/19/7134\"]['speech'][24]"
   ]
  },
  {
   "cell_type": "code",
   "execution_count": 269,
   "metadata": {},
   "outputs": [
    {
     "data": {
      "text/plain": [
       "[{'speech_id': 'SPEECH/15/6858',\n",
       "  'speaker': 'Phil Hogan',\n",
       "  'speaker_id': '184',\n",
       "  'date': '23 June 2015',\n",
       "  'year': '2015',\n",
       "  'title': \"'A new start for Europe: Opening up to an ERA of Innovation'\",\n",
       "  'meta_tags': 'Speech|23 June 2015|Brussels',\n",
       "  'link': 'https://ec.europa.eu/commission/presscorner/detail/en/speech_19_7325',\n",
       "  'speech': 'ERA conference First of all, thank you for the opportunity to speak here today. As the Commission\\'s Spring Economic Forecast showed, we are currently witnessing cautious signs of an economic upturn across Europe. I think we can all agree that Europe will only be able to make a new start by turning this upturn into a lasting and solid economic recovery. This is why kick-starting economic growth and job recovery has been the number one priority of this Commission since it took office. Through the European Semester 2015, the Commission presented an ‘integrated approach\\' on how to achieve this goal built on three pillars: Boosting investment through the Investment Plan for Europe and the European Fund for Strategic Investments; A renewed commitment at EU and Member State level to implement structural reforms; and The pursuit of fiscal responsibility at the national level.  Research and innovation are undisputed drivers of long-term economic growth and job creation and they therefore play a crucial role in the Commission\\'s strategy. Beyond the direct impact of R&D it has also a broader economic impact which translates into greater market shares for technologies, higher labour and total factor productivity, industrial competitiveness and efficiency in the use of resources. In other words, it creates sustainable growth. We should not forget that today already Europe continues to be a strong performer on the global research and innovation scene, with a lot of potential to capitalise on. At the same time, however, new players are emerging. In 2011, more than 70% of the world\\'s knowledge production took place outside the EU. Some emerging economies have seen their R&D intensities rise at much higher speed than the EU. For example, since 1999 China\\'s spending on R&D has increased by more than 20% each year and it now ranks top in the world in overall spending in R&D. Europe\\'s productivity gap vis-à-vis other advanced economies, and notably the United States, has increased since the mid- 1990s. Those are clear challenges which only a strengthening of Europe\\'s research and innovation effort can tackle and this is why increasing investment in research and innovation to 3% GDP by 2020 continues to be one of the headline targets of the Europe 2020 strategy. From personal experience, I have to say I was fascinated when I visited a science and research centre in Dublin called AMBER during my roadshow to Ireland a few weeks ago. We were shown the \"wonder material\" graphene being made, and met a scientist who is developing 3D parts to help combat heart disease – two clear examples of the importance of investing in R&D and supporting our scientists in Europe. But increasing investment is only one side of the coin. We also need to invest wisely and ensure that the investment pays off. Therefore, research and innovation feature prominently among those areas where Member States need to continue making structural reforms in order to get more impact from their investments. Let me get next to the topic I have been talking about a lot lately. The Commission\\'s ‘Investment Plan for Europe\\', which is one of the key elements in implementing the integrated approach of the European Semester 2015 process. With the Investment Plan, the Commission and the European Investment Bank are providing a new kick start to growth and jobs, which is urgently needed in Europe. Through the Investment Plan, public money will be used to leverage and encourage private investment. Research and innovation are clearly mentioned among the objectives that can be supported through EFSI, which therefore complements and reinforces one of our main investment fund programs: Horizon 2020. I am also happy to note that the first EFSI projects which have been approved for pre-financing by the EIB until the EFSI is up and running have a clear focus on research and innovation, by targeting for instance healthcare research in Spain and industrial innovation in Italy. In addition, on 13 May 2015 the European Investment Fund signed an agreement with the French National Promotional Bank bpifrance to pre-finance innovative SME projects under the Investment Plan. But increasing investment is not enough. We also need further structural reforms to improve the framework conditions for investments in Europe. That\\'s why our aim is to create real European Single Market area.  The new Commission has also been very active in this respect. For instance, the initiative for a Capital Markets Union (CMU) is a key element of the Investment Plan. With the CMU, the Commission will explore ways of reducing fragmentation in financial markets, diversifying financing sources, strengthening cross border capital flows and improving access to finance for businesses, particularly SMEs. The goal behind the CMU is to develop a more diversified financial system complementing bank financing with deep and developed capital markets, to unlock the capital around Europe which is currently frozen and put it to work for the economy. We also need to further deepen the Single Market for innovative goods and services and here we have taken an important step with the Digital Single Market initiative. The internet and digital technologies are transforming our world. But existing barriers mean that citizens miss out on goods and services, internet companies and start-ups have their horizons limited, and businesses and governments cannot fully benefit from digital tools. It\\'s time to make the EU\\'s single market fit for the digital age – tearing down regulatory walls and moving from 28 national markets to a Single Digital Market. This could contribute €415bn per year to our economy and create 3.8ml jobs. The Commission recently announced its Better Regulation initiative and this is also a key for research and innovation. Overly prescriptive and overly complex regulations hinder innovation and deter investment. A smart use of regulation, on the other hand, can stimulate innovation and the Better Regulation package includes specific tools to assess the impact of new regulation on innovation. Yet putting in place attractive framework conditions for investment is also a responsibility of the Member States - and allow me to stress that national research and innovation policies are an integral element of this. The Commission monitors and assesses national research and innovation policies as part of the European Semester process. As part of the package adopted on 13 May 2015, the Commission identified a number of cross-cutting challenges that need to be tackled in order to increase the quality of Europe\\'s research and innovation systems. This includes (1) the quality of public research and innovation systems, (2) leveraging business investment through public-private cooperation and (3) creating an investment-friendly environment for business research and innovation. We live in an ever-more interconnected world. Apart from the remarkable innovative products research laboratories across Europe are producing, the system, performance and organisation of the way research is conducted is changing as well. In order to maintain its global competitiveness Europe needs to increase investment in R&D. This will ensure we stay on a sustainable growth path and create new and rewarding jobs, which is a key priority for this Commission. The shift we now see towards an opening up of science is an integral part of the open research systems we are creating through ERA, the European Research Area. The Commission is preparing a European Open Science Agenda as part of the implementation of the Digital Single Market, which will also require ambitious and coordinated action at national level. Openness and innovation go hand in hand: countries with open and attractive research systems are strong performers in terms of innovation. This is what the ERA reforms will bring about: an open European research space where knowledge and ideas will feed off each other. I thank you for your attention and I have a little time to answer some of your questions.'}]"
      ]
     },
     "execution_count": 269,
     "metadata": {},
     "output_type": "execute_result"
    }
   ],
   "source": [
    "test"
   ]
  }
 ],
 "metadata": {
  "kernelspec": {
   "display_name": "Python 3.10.6 64-bit",
   "language": "python",
   "name": "python3"
  },
  "language_info": {
   "codemirror_mode": {
    "name": "ipython",
    "version": 3
   },
   "file_extension": ".py",
   "mimetype": "text/x-python",
   "name": "python",
   "nbconvert_exporter": "python",
   "pygments_lexer": "ipython3",
   "version": "3.10.6"
  },
  "orig_nbformat": 4,
  "vscode": {
   "interpreter": {
    "hash": "05741b0d87c04d8ac43333bed0924de96eecbf0ec1bc2862921bb8e7d14b7822"
   }
  }
 },
 "nbformat": 4,
 "nbformat_minor": 2
}
